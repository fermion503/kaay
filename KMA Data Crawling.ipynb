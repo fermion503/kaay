{
 "cells": [
  {
   "cell_type": "code",
   "execution_count": 1,
   "id": "28432f1d",
   "metadata": {},
   "outputs": [],
   "source": [
    "import requests\n",
    "import pandas as pd\n",
    "from bs4 import BeautifulSoup\n",
    "\n",
    "location = 108 # 원하는 지역 설정 \n",
    "\n",
    "locations = []\n",
    "days = []\n",
    "datas = []\n",
    "\n",
    "for year in range(2000, 2020): # 크롤링 원하는 연도 설정\n",
    "    for month in range(1,13): \n",
    "        url = f'https://www.weather.go.kr/w/obs-climate/land/past-obs/obs-by-day.do?stn={location}&yy={year}&mm={month}&obs=1'\n",
    "        data = requests.get(url) \n",
    "        pageString = data.text\n",
    "        bsObj = BeautifulSoup(pageString, \"html.parser\")\n",
    "\n",
    "        subp = bsObj.find(\"body\", {\"class\":\"subp\"})\n",
    "        scroll = subp.find(\"div\", {\"class\":\"over-scroll\"})\n",
    "        tbody = scroll.find(\"tbody\")\n",
    "        trs = tbody.findAll(\"tr\")\n",
    "\n",
    "        for r in range(0, len(trs)):\n",
    "            if r % 2 == 0:\n",
    "                tr = trs[r]\n",
    "                tds = tr.findAll(\"td\")\n",
    "                for d in range(0, len(tds)):\n",
    "                    td = tds[d].text.strip().split('\\n\\n\\n')[0]\n",
    "                    if td == '':\n",
    "                        pass\n",
    "                    else:\n",
    "                        days.append(f'{year}년-{month}월-{td}')\n",
    "            else:\n",
    "                tr = trs[r]\n",
    "                tds = tr.findAll(\"td\")\n",
    "                for d in range(0, len(tds)):\n",
    "                    td = tds[d].text.strip().split('\\n\\n\\n')[0]\n",
    "                    if td == '':\n",
    "                        pass\n",
    "                    else:\n",
    "                        datas.append(td)\n",
    "\n",
    "result = pd.DataFrame([days, datas]).transpose()\n",
    "result.insert(0, \"location\", location)\n",
    "# result.to_csv('주소 입력')"
   ]
  }
 ],
 "metadata": {
  "kernelspec": {
   "display_name": "Python 3 (ipykernel)",
   "language": "python",
   "name": "python3"
  },
  "language_info": {
   "codemirror_mode": {
    "name": "ipython",
    "version": 3
   },
   "file_extension": ".py",
   "mimetype": "text/x-python",
   "name": "python",
   "nbconvert_exporter": "python",
   "pygments_lexer": "ipython3",
   "version": "3.9.6"
  }
 },
 "nbformat": 4,
 "nbformat_minor": 5
}
